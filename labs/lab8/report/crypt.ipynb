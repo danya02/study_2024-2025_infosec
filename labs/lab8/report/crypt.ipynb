{
 "cells": [
  {
   "cell_type": "code",
   "execution_count": 1,
   "metadata": {},
   "outputs": [],
   "source": [
    "def xor_bytes(a, b):\n",
    "    if len(a) != len(b):\n",
    "        raise ValueError(\"a and b must be of equal length\")\n",
    "    return bytes([a[i] ^ b[i] for i in range(len(a))])"
   ]
  },
  {
   "cell_type": "code",
   "execution_count": 2,
   "metadata": {},
   "outputs": [],
   "source": [
    "template = b\"RUDN_CTF{                  }\"\n",
    "plaintx1 = b\"RUDN_CTF{Hello ASCII World!}\"\n",
    "plaintx2 = b\"This message is encrypted???\""
   ]
  },
  {
   "cell_type": "code",
   "execution_count": 3,
   "metadata": {},
   "outputs": [],
   "source": [
    "def hex(b):\n",
    "    return b.hex(' ')"
   ]
  },
  {
   "cell_type": "code",
   "execution_count": 4,
   "metadata": {},
   "outputs": [
    {
     "name": "stdout",
     "output_type": "stream",
     "text": [
      "a0 86 b9 5b 44 d3 59 d6 7a 8a 6d 5b a6 80 e7 8a 67 e1 18 67 26 65 4c cb 26 e5 62 67\n"
     ]
    }
   ],
   "source": [
    "import os\n",
    "key = os.urandom(len(template))\n",
    "print(hex(key))"
   ]
  },
  {
   "cell_type": "code",
   "execution_count": 5,
   "metadata": {},
   "outputs": [
    {
     "name": "stdout",
     "output_type": "stream",
     "text": [
      "52 55 44 4e 5f 43 54 46 7b 20 20 20 20 20 20 20 20 20 20 20 20 20 20 20 20 20 20 7d\n",
      "52 55 44 4e 5f 43 54 46 7b 48 65 6c 6c 6f 20 41 53 43 49 49 20 57 6f 72 6c 64 21 7d\n",
      "54 68 69 73 20 6d 65 73 73 61 67 65 20 69 73 20 65 6e 63 72 79 70 74 65 64 3f 3f 3f\n"
     ]
    }
   ],
   "source": [
    "print(hex(template))\n",
    "print(hex(plaintx1))\n",
    "print(hex(plaintx2))"
   ]
  },
  {
   "cell_type": "code",
   "execution_count": 6,
   "metadata": {},
   "outputs": [
    {
     "name": "stdout",
     "output_type": "stream",
     "text": [
      "f2 d3 fd 15 1b 90 0d 90 01 c2 08 37 ca ef c7 cb 34 a2 51 2e 06 32 23 b9 4a 81 43 1a\n",
      "f4 ee d0 28 64 be 3c a5 09 eb 0a 3e 86 e9 94 aa 02 8f 7b 15 5f 15 38 ae 42 da 5d 58\n"
     ]
    }
   ],
   "source": [
    "cipher1 = xor_bytes(plaintx1, key)\n",
    "cipher2 = xor_bytes(plaintx2, key)\n",
    "print(hex(cipher1))\n",
    "print(hex(cipher2))\n"
   ]
  },
  {
   "cell_type": "code",
   "execution_count": 7,
   "metadata": {},
   "outputs": [
    {
     "name": "stdout",
     "output_type": "stream",
     "text": [
      "06 3d 2d 3d 7f 2e 31 35 08 29 02 09 4c 06 53 61 36 2d 2a 3b 59 27 1b 17 08 5b 1e 42\n"
     ]
    }
   ],
   "source": [
    "both_ciphers = xor_bytes(cipher1, cipher2)\n",
    "print(hex(both_ciphers))"
   ]
  },
  {
   "cell_type": "code",
   "execution_count": 8,
   "metadata": {},
   "outputs": [
    {
     "name": "stdout",
     "output_type": "stream",
     "text": [
      "54 68 69 73 20 6d 65 73 73 09 22 29 6c 26 73 41 16 0d 0a 1b 79 07 3b 37 28 7b 3e 3f\n"
     ]
    }
   ],
   "source": [
    "both_plus_template = xor_bytes(both_ciphers, template)\n",
    "print(hex(both_plus_template))"
   ]
  },
  {
   "cell_type": "code",
   "execution_count": 9,
   "metadata": {},
   "outputs": [
    {
     "name": "stdout",
     "output_type": "stream",
     "text": [
      "This mess~\")l&sA~~~~y~;7({>?\n"
     ]
    }
   ],
   "source": [
    "def ascii_filter_unprintable(b):\n",
    "    text = ''\n",
    "    for c in b:\n",
    "        if c < 32 or c > 126:\n",
    "            text += '~'\n",
    "        else:\n",
    "            text += chr(c)\n",
    "    return text\n",
    "\n",
    "print(ascii_filter_unprintable(both_plus_template))"
   ]
  },
  {
   "cell_type": "code",
   "execution_count": 10,
   "metadata": {},
   "outputs": [],
   "source": [
    "guess2 = b'This message &sA~~~~y~;7({>?'"
   ]
  },
  {
   "cell_type": "code",
   "execution_count": 11,
   "metadata": {},
   "outputs": [
    {
     "name": "stdout",
     "output_type": "stream",
     "text": [
      "RUDN_CTF{                  }\n",
      "|||||||||||| |||||||||||||||\n",
      "This message &sA~~~~y~;7({>?\n"
     ]
    }
   ],
   "source": [
    "def textdiff(a, b):\n",
    "    print(ascii_filter_unprintable(a))\n",
    "    chars = ''\n",
    "    for q,w in zip(a,b):\n",
    "        if q != w:\n",
    "            chars += '|'\n",
    "        else:\n",
    "            chars += ' '\n",
    "    print(chars)\n",
    "    print(ascii_filter_unprintable(b))\n",
    "\n",
    "textdiff(template, guess2)"
   ]
  },
  {
   "cell_type": "code",
   "execution_count": 14,
   "metadata": {},
   "outputs": [
    {
     "name": "stdout",
     "output_type": "stream",
     "text": [
      "RUDN_CTF{Hell   HSTE Y     }\n",
      "|||||||||||| |||||||||||||||\n",
      "This mess~\")l&sA~~~~y~;7({>?\n"
     ]
    }
   ],
   "source": [
    "mix = xor_bytes(cipher1, cipher2)\n",
    "\n",
    "both_plus_guess = xor_bytes(mix, guess2)\n",
    "\n",
    "textdiff(both_plus_guess, both_plus_template)"
   ]
  },
  {
   "cell_type": "code",
   "execution_count": 15,
   "metadata": {},
   "outputs": [
    {
     "data": {
      "text/plain": [
       "'This message isA~~~~y~;7({>?'"
      ]
     },
     "execution_count": 15,
     "metadata": {},
     "output_type": "execute_result"
    }
   ],
   "source": [
    "guess1 = b'RUDN_CTF{Hello  HSTE Y     }'\n",
    "both_plus_guess = xor_bytes(mix, guess1)\n",
    "ascii_filter_unprintable(both_plus_guess)"
   ]
  },
  {
   "cell_type": "code",
   "execution_count": 16,
   "metadata": {},
   "outputs": [
    {
     "data": {
      "text/plain": [
       "'RUDN_CTF{Hello AHSTE Y     }'"
      ]
     },
     "execution_count": 16,
     "metadata": {},
     "output_type": "execute_result"
    }
   ],
   "source": [
    "guess2 = b'This message is ~~~~y~;7({>?'\n",
    "both_plus_guess = xor_bytes(mix, guess2)\n",
    "ascii_filter_unprintable(both_plus_guess)"
   ]
  },
  {
   "cell_type": "code",
   "execution_count": 17,
   "metadata": {},
   "outputs": [
    {
     "data": {
      "text/plain": [
       "'This message is encry~;7({>?'"
      ]
     },
     "execution_count": 17,
     "metadata": {},
     "output_type": "execute_result"
    }
   ],
   "source": [
    "guess1 = b'RUDN_CTF{Hello ASCII Y     }'\n",
    "both_plus_guess = xor_bytes(mix, guess1)\n",
    "ascii_filter_unprintable(both_plus_guess)"
   ]
  },
  {
   "cell_type": "code",
   "execution_count": 19,
   "metadata": {},
   "outputs": [
    {
     "data": {
      "text/plain": [
       "'RUDN_CTF{Hello ASCII Worl  }'"
      ]
     },
     "execution_count": 19,
     "metadata": {},
     "output_type": "execute_result"
    }
   ],
   "source": [
    "guess2 = b'This message is encrypted{>?'\n",
    "both_plus_guess = xor_bytes(mix, guess2)\n",
    "ascii_filter_unprintable(both_plus_guess)"
   ]
  },
  {
   "cell_type": "code",
   "execution_count": 20,
   "metadata": {},
   "outputs": [
    {
     "data": {
      "text/plain": [
       "'This message is encrypted?>?'"
      ]
     },
     "execution_count": 20,
     "metadata": {},
     "output_type": "execute_result"
    }
   ],
   "source": [
    "guess1 = b'RUDN_CTF{Hello ASCII World }'\n",
    "both_plus_guess = xor_bytes(mix, guess1)\n",
    "ascii_filter_unprintable(both_plus_guess)"
   ]
  },
  {
   "cell_type": "code",
   "execution_count": 22,
   "metadata": {},
   "outputs": [
    {
     "data": {
      "text/plain": [
       "'RUDN_CTF{Hello ASCII World?}'"
      ]
     },
     "execution_count": 22,
     "metadata": {},
     "output_type": "execute_result"
    }
   ],
   "source": [
    "guess2 = b'This message is encrypted?!?'\n",
    "both_plus_guess = xor_bytes(mix, guess2)\n",
    "ascii_filter_unprintable(both_plus_guess)"
   ]
  },
  {
   "cell_type": "code",
   "execution_count": 23,
   "metadata": {},
   "outputs": [
    {
     "data": {
      "text/plain": [
       "'This message is encrypted???'"
      ]
     },
     "execution_count": 23,
     "metadata": {},
     "output_type": "execute_result"
    }
   ],
   "source": [
    "guess1 = b'RUDN_CTF{Hello ASCII World!}'\n",
    "both_plus_guess = xor_bytes(mix, guess1)\n",
    "ascii_filter_unprintable(both_plus_guess)"
   ]
  },
  {
   "cell_type": "code",
   "execution_count": null,
   "metadata": {},
   "outputs": [],
   "source": []
  }
 ],
 "metadata": {
  "kernelspec": {
   "display_name": "Python 3",
   "language": "python",
   "name": "python3"
  },
  "language_info": {
   "codemirror_mode": {
    "name": "ipython",
    "version": 3
   },
   "file_extension": ".py",
   "mimetype": "text/x-python",
   "name": "python",
   "nbconvert_exporter": "python",
   "pygments_lexer": "ipython3",
   "version": "3.12.7"
  }
 },
 "nbformat": 4,
 "nbformat_minor": 2
}
